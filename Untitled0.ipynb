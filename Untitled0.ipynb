{
  "nbformat": 4,
  "nbformat_minor": 0,
  "metadata": {
    "colab": {
      "provenance": [],
      "authorship_tag": "ABX9TyPGX3RUfX4YULPgK01d7Kf0",
      "include_colab_link": true
    },
    "kernelspec": {
      "name": "python3",
      "display_name": "Python 3"
    },
    "language_info": {
      "name": "python"
    }
  },
  "cells": [
    {
      "cell_type": "markdown",
      "metadata": {
        "id": "view-in-github",
        "colab_type": "text"
      },
      "source": [
        "<a href=\"https://colab.research.google.com/github/kurtyale/phyton/blob/main/Untitled0.ipynb\" target=\"_parent\"><img src=\"https://colab.research.google.com/assets/colab-badge.svg\" alt=\"Open In Colab\"/></a>"
      ]
    },
    {
      "cell_type": "code",
      "execution_count": null,
      "metadata": {
        "id": "Trumnyn3WwGC"
      },
      "outputs": [],
      "source": [
        "x = 10\n",
        "print ('valor de x é: ',x)\n",
        "\n",
        "x = \"hello word\"\n",
        "print(x)\n",
        "\n",
        "num1= int(input(\"digite um valor\"))\n",
        "num2= int(input(\"digite outro valor\"))\n",
        "print()\n",
        "print(\"o valor é : \"+str(num1+num2))"
      ]
    },
    {
      "cell_type": "code",
      "source": [
        "import time\n",
        "\n",
        "nome = input(\"Digite o nome: \")\n",
        "anoNasc = int(input(\"Dite o ano de nascimento: \"))\n",
        "anoAtual = int(time.strftime(\"%Y\"))\n",
        "idade = anoAtual - anoNasc\n",
        "maiorIdade = ''\n",
        "\n",
        "if  idade < 18 :\n",
        "  maiorIdade = 'menor idade'\n",
        "\n",
        "else:\n",
        "  maiorIdade = 'maior idade'\n",
        "\n",
        "print(nome,\"a idade e \",idade, \"você é \",maiorIdade)"
      ],
      "metadata": {
        "id": "SaKshw_LafZl"
      },
      "execution_count": null,
      "outputs": []
    }
  ]
}