{
  "nbformat": 4,
  "nbformat_minor": 0,
  "metadata": {
    "colab": {
      "provenance": [],
      "authorship_tag": "ABX9TyPGX3RUfX4YULPgK01d7Kf0",
      "include_colab_link": true
    },
    "kernelspec": {
      "name": "python3",
      "display_name": "Python 3"
    },
    "language_info": {
      "name": "python"
    }
  },
  "cells": [
    {
      "cell_type": "markdown",
      "metadata": {
        "id": "view-in-github",
        "colab_type": "text"
      },
      "source": [
        "<a href=\"https://colab.research.google.com/github/kurtyale/phyton/blob/main/C%C3%B3pia_de_Untitled0.ipynb\" target=\"_parent\"><img src=\"https://colab.research.google.com/assets/colab-badge.svg\" alt=\"Open In Colab\"/></a>"
      ]
    },
    {
      "cell_type": "code",
      "execution_count": null,
      "metadata": {
        "colab": {
          "base_uri": "https://localhost:8080/"
        },
        "id": "Trumnyn3WwGC",
        "outputId": "286aded9-c935-44e2-db22-6613f7cf8d9f"
      },
      "outputs": [
        {
          "output_type": "stream",
          "name": "stdout",
          "text": [
            "valor de x é:  10\n",
            "hello word\n",
            "digite um valor10\n",
            "digite outro valor20\n",
            "\n",
            "o valor é : 30\n"
          ]
        }
      ],
      "source": [
        "x = 10\n",
        "print ('valor de x é: ',x)\n",
        "\n",
        "x = \"hello word\"\n",
        "print(x)\n",
        "\n",
        "num1= int(input(\"digite um valor\"))\n",
        "num2= int(input(\"digite outro valor\"))\n",
        "print()\n",
        "print(\"o valor é : \"+str(num1+num2))"
      ]
    },
    {
      "cell_type": "code",
      "source": [
        "import time\n",
        "\n",
        "nome = input(\"Digite o nome: \")\n",
        "anoNasc = int(input(\"Dite o ano de nascimento: \"))\n",
        "anoAtual = int(time.strftime(\"%Y\"))\n",
        "idade = anoAtual - anoNasc\n",
        "maiorIdade = ''\n",
        "\n",
        "if  idade < 18 :\n",
        "  maiorIdade = 'menor idade'\n",
        "\n",
        "else:\n",
        "  maiorIdade = 'maior idade'\n",
        "\n",
        "print(nome,\"a idade e \",idade, \"você é \",maiorIdade)"
      ],
      "metadata": {
        "colab": {
          "base_uri": "https://localhost:8080/"
        },
        "id": "SaKshw_LafZl",
        "outputId": "25ed785b-219a-4cfb-f316-0deebb5105c2"
      },
      "execution_count": null,
      "outputs": [
        {
          "output_type": "stream",
          "name": "stdout",
          "text": [
            "Digite o nome: fabio\n",
            "Dite o ano de nascimento: 1993\n",
            "fabio a idade e  29 você é  maior idade\n"
          ]
        }
      ]
    }
  ]
}